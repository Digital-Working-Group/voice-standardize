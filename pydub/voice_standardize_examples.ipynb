{
 "cells": [
  {
   "cell_type": "markdown",
   "id": "59a6a553",
   "metadata": {},
   "source": [
    "# Voice Standardize Examples"
   ]
  },
  {
   "cell_type": "markdown",
   "id": "df83e9af",
   "metadata": {},
   "source": [
    "This Jupyter Notebook is part of a larger voice feature extraction toolkit developed to study brain ageing by means of voice features\n",
    "\n",
    "Specifically, this noteook contains examples of how to use pydub to standardize digital voice audio files with varying metadata"
   ]
  },
  {
   "cell_type": "markdown",
   "id": "d7a73752",
   "metadata": {},
   "source": [
    "## Installation instructions"
   ]
  },
  {
   "cell_type": "markdown",
   "id": "ef9a9667",
   "metadata": {},
   "source": [
    "For specific Installation and Ffmpeg instructions\n",
    "[View README](README.md)\n"
   ]
  },
  {
   "cell_type": "markdown",
   "id": "86a3ecdd",
   "metadata": {},
   "source": [
    "## Sample Input Files and Metadata"
   ]
  },
  {
   "cell_type": "markdown",
   "id": "28383ba6",
   "metadata": {},
   "source": [
    "The files refered to in these examples are sample audio files with varying formats and metadata. Each audio file's metadata is captured in a JSON and CSV file.\n"
   ]
  },
  {
   "cell_type": "markdown",
   "id": "9b3a30e4",
   "metadata": {},
   "source": [
    "### Files In Sample Audio\n",
    "\n"
   ]
  },
  {
   "cell_type": "markdown",
   "id": "95e9af8b",
   "metadata": {},
   "source": [
    "The following files are example files used to demonstrate the standardization process"
   ]
  },
  {
   "cell_type": "code",
   "execution_count": 6,
   "id": "0179aaab",
   "metadata": {},
   "outputs": [],
   "source": [
    "flac_mono = '../sample_audio/flac/mono_first_ten_Sample_HV_Clip.flac'\n",
    "flac_stereo = '../sample_audio/flac/first_ten_Sample_HV_Clip.flac'\n",
    "mp3_mono = '../sample_audio/mp3/common_voice_en_21635524.mp3'\n",
    "mp3_stereo = '../sample_audio/mp3/first_ten_Sample_HV_Clip.mp3'\n",
    "m4a_mono = '../sample_audio/m4a/mono_zoom_audio.m4a'\n",
    "m4a_stereo = '../sample_audio/m4a/sample_zoom_audio.m4a'\n",
    "wav_mono = '../sample_audio/wav/mono_first_ten_Sample_HV_Clip.wav'\n",
    "wav_stereo = '../sample_audio/wav/first_ten_Sample_HV_Clip.wav'"
   ]
  },
  {
   "cell_type": "markdown",
   "id": "4c0a85cc",
   "metadata": {},
   "source": [
    "The following files were generated using the write_metadata function, which takes a file and arguments as input and writes this metadata to the files.\n",
    "\n",
    "This outputs JSON and CSV files that capture the metadata for the file specified, appending the FFmpeg command used to create the file and the equivalent pydub command to the end of the JSON."
   ]
  },
  {
   "cell_type": "code",
   "execution_count": 7,
   "id": "8bcbc248",
   "metadata": {},
   "outputs": [
    {
     "name": "stdout",
     "output_type": "stream",
     "text": [
      "../sample_audio/flac/mono_first_ten_Sample_HV_Clip.json\n",
      "../sample_audio/flac/mono_first_ten_Sample_HV_Clip.csv\n",
      "../sample_audio/flac/first_ten_Sample_HV_Clip.json\n",
      "../sample_audio/flac/first_ten_Sample_HV_Clip.csv\n",
      "../sample_audio/mp3/first_ten_Sample_HV_Clip.json\n",
      "../sample_audio/mp3/first_ten_Sample_HV_Clip.csv\n",
      "../sample_audio/m4a/mono_zoom_audio.json\n",
      "../sample_audio/m4a/mono_zoom_audio.csv\n",
      "../sample_audio/wav/mono_first_ten_Sample_HV_Clip.json\n",
      "../sample_audio/wav/mono_first_ten_Sample_HV_Clip.csv\n"
     ]
    }
   ],
   "source": [
    "from metadata import write_metadata\n",
    "\n",
    "kwargs = {'append_json_dict':{'ffmpeg_command': f\"ffmpeg -i '{wav_mono}' -compression_level 5 -af aformat=s16:44100 '{flac_mono}'\"}}\n",
    "write_metadata(flac_mono, **kwargs)\n",
    "kwargs = {'append_json_dict': {'ffmpeg_command': f\"ffmpeg -i '{wav_stereo}' -compression_level 5 -af aformat=s16:44100 '{flac_stereo}'\"}}\n",
    "write_metadata(flac_stereo, **kwargs)\n",
    "kwargs = {'append_json_dict':{'ffmpeg_command': f\"ffmpeg -i '{wav_stereo}' -ar 44100 -ac 2 '{mp3_stereo}'\"}}\n",
    "write_metadata(mp3_stereo, **kwargs)\n",
    "kwargs = {'append_json_dict':{'ffmpeg_command': f\"ffmpeg -i '{m4a_stereo}' -ac 1 '{m4a_mono}'\"}}\n",
    "write_metadata(m4a_mono, **kwargs)\n",
    "kwargs = {'append_json_dict':{'ffmpeg_command': f\"ffmpeg -i '{wav_stereo}' -ar 44100 -ac 1 '{wav_mono}'\"}}\n",
    "write_metadata(wav_mono, **kwargs)\n"
   ]
  },
  {
   "cell_type": "markdown",
   "id": "3ddf973c",
   "metadata": {},
   "source": [
    "These are the original audio files:"
   ]
  },
  {
   "cell_type": "code",
   "execution_count": 8,
   "id": "6a1abf22",
   "metadata": {},
   "outputs": [
    {
     "name": "stdout",
     "output_type": "stream",
     "text": [
      "../sample_audio/wav/first_ten_Sample_HV_Clip.json\n",
      "../sample_audio/wav/first_ten_Sample_HV_Clip.csv\n",
      "../sample_audio/m4a/sample_zoom_audio.json\n",
      "../sample_audio/m4a/sample_zoom_audio.csv\n",
      "../sample_audio/mp3/common_voice_en_21635524.json\n",
      "../sample_audio/mp3/common_voice_en_21635524.csv\n"
     ]
    }
   ],
   "source": [
    "write_metadata(wav_stereo)\n",
    "write_metadata(m4a_stereo)\n",
    "write_metadata(mp3_mono)"
   ]
  },
  {
   "cell_type": "markdown",
   "id": "be2454be",
   "metadata": {},
   "source": [
    "## Example: Standardize Audio"
   ]
  },
  {
   "cell_type": "code",
   "execution_count": 9,
   "id": "649e1131",
   "metadata": {},
   "outputs": [],
   "source": [
    "from pydub_standardize import standardize"
   ]
  },
  {
   "cell_type": "markdown",
   "id": "ee406561",
   "metadata": {},
   "source": [
    "### Convert to 16KHZ wav pcm_s16le"
   ]
  },
  {
   "cell_type": "markdown",
   "id": "3b975f1c",
   "metadata": {},
   "source": [
    "Utilizing the standardize function, which standardizes audio_fp with pydub using the given keyword arguments.\n",
    "\n",
    "standardize() takes an audio file and various arguements as parameters, and outputs the standardized file\n",
    "\n",
    "The following code block standardizes the example audio files to a sampling rate of 16,000 Hz, waveform audio file format, and 16-bit out-encoding"
   ]
  },
  {
   "cell_type": "markdown",
   "id": "e736b223",
   "metadata": {},
   "source": [
    "#### Example with wav_mono"
   ]
  },
  {
   "cell_type": "code",
   "execution_count": 10,
   "id": "9b497e44",
   "metadata": {},
   "outputs": [
    {
     "name": "stdout",
     "output_type": "stream",
     "text": [
      "../sample_audio/wav/pydub/ar_16000_c-a_pcm_s16le/mono_first_ten_Sample_HV_Clip.json\n",
      "../sample_audio/wav/pydub/ar_16000_c-a_pcm_s16le/mono_first_ten_Sample_HV_Clip.csv\n",
      "See ../sample_audio/wav/pydub/ar_16000_c-a_pcm_s16le/mono_first_ten_Sample_HV_Clip.wav for the standardized audio file.\n"
     ]
    }
   ],
   "source": [
    "#Original file\n",
    "wav_mono = '../sample_audio/wav/mono_first_ten_Sample_HV_Clip.wav'\n",
    "\n",
    "#Standardization arguments\n",
    "kwargs = {'sampling_rate': 16000, 'out_fmt': 'wav',\n",
    "              'out_encoding': 'pcm_s16le', 'run_validate': True,\n",
    "              'raise_error': True, 'write_meta': True}\n",
    "\n",
    "#function call\n",
    "standardize(wav_mono, **kwargs)"
   ]
  },
  {
   "cell_type": "markdown",
   "id": "84447670",
   "metadata": {},
   "source": [
    "The rest of the files are standardized in the same way:"
   ]
  },
  {
   "cell_type": "markdown",
   "id": "24565233",
   "metadata": {},
   "source": [
    "#### flac_mono"
   ]
  },
  {
   "cell_type": "code",
   "execution_count": 11,
   "id": "c0952efc",
   "metadata": {},
   "outputs": [
    {
     "name": "stdout",
     "output_type": "stream",
     "text": [
      "../sample_audio/flac/pydub/ar_16000_c-a_pcm_s16le/mono_first_ten_Sample_HV_Clip.json\n",
      "../sample_audio/flac/pydub/ar_16000_c-a_pcm_s16le/mono_first_ten_Sample_HV_Clip.csv\n",
      "See ../sample_audio/flac/pydub/ar_16000_c-a_pcm_s16le/mono_first_ten_Sample_HV_Clip.wav for the standardized audio file.\n"
     ]
    }
   ],
   "source": [
    "flac_mono = '../sample_audio/flac/mono_first_ten_Sample_HV_Clip.flac'\n",
    "\n",
    "kwargs = {'sampling_rate': 16000, 'out_fmt': 'wav',\n",
    "              'out_encoding': 'pcm_s16le', 'run_validate': True,\n",
    "              'raise_error': True, 'write_meta': True}\n",
    "\n",
    "standardize(flac_mono, **kwargs)"
   ]
  },
  {
   "cell_type": "markdown",
   "id": "bad09d3d",
   "metadata": {},
   "source": [
    "#### wav_stereo"
   ]
  },
  {
   "cell_type": "code",
   "execution_count": 12,
   "id": "16a114fe",
   "metadata": {},
   "outputs": [
    {
     "name": "stdout",
     "output_type": "stream",
     "text": [
      "../sample_audio/wav/pydub/ar_16000_c-a_pcm_s16le/first_ten_Sample_HV_Clip.json\n",
      "../sample_audio/wav/pydub/ar_16000_c-a_pcm_s16le/first_ten_Sample_HV_Clip.csv\n",
      "See ../sample_audio/wav/pydub/ar_16000_c-a_pcm_s16le/first_ten_Sample_HV_Clip.wav for the standardized audio file.\n"
     ]
    }
   ],
   "source": [
    "wav_stereo = '../sample_audio/wav/first_ten_Sample_HV_Clip.wav'\n",
    "\n",
    "kwargs = {'sampling_rate': 16000, 'out_fmt': 'wav',\n",
    "              'out_encoding': 'pcm_s16le', 'run_validate': True,\n",
    "              'raise_error': True, 'write_meta': True}\n",
    "\n",
    "standardize(wav_stereo, **kwargs)"
   ]
  },
  {
   "cell_type": "markdown",
   "id": "2fbde3c9",
   "metadata": {},
   "source": [
    "#### m4a_mono"
   ]
  },
  {
   "cell_type": "code",
   "execution_count": 13,
   "id": "9e1f13fd",
   "metadata": {},
   "outputs": [
    {
     "name": "stdout",
     "output_type": "stream",
     "text": [
      "../sample_audio/m4a/pydub/ar_16000_c-a_pcm_s16le/mono_zoom_audio.json\n",
      "../sample_audio/m4a/pydub/ar_16000_c-a_pcm_s16le/mono_zoom_audio.csv\n",
      "See ../sample_audio/m4a/pydub/ar_16000_c-a_pcm_s16le/mono_zoom_audio.wav for the standardized audio file.\n"
     ]
    }
   ],
   "source": [
    "m4a_mono = '../sample_audio/m4a/mono_zoom_audio.m4a'\n",
    "\n",
    "\n",
    "kwargs = {'sampling_rate': 16000, 'out_fmt': 'wav',\n",
    "              'out_encoding': 'pcm_s16le', 'run_validate': True,\n",
    "              'raise_error': True, 'write_meta': True}\n",
    "\n",
    "standardize(m4a_mono, **kwargs)"
   ]
  },
  {
   "cell_type": "markdown",
   "id": "f3747838",
   "metadata": {},
   "source": [
    "#### m4a_stereo"
   ]
  },
  {
   "cell_type": "code",
   "execution_count": 14,
   "id": "6ca3f8d9",
   "metadata": {},
   "outputs": [
    {
     "name": "stdout",
     "output_type": "stream",
     "text": [
      "../sample_audio/m4a/pydub/ar_16000_c-a_pcm_s16le/sample_zoom_audio.json\n",
      "../sample_audio/m4a/pydub/ar_16000_c-a_pcm_s16le/sample_zoom_audio.csv\n",
      "See ../sample_audio/m4a/pydub/ar_16000_c-a_pcm_s16le/sample_zoom_audio.wav for the standardized audio file.\n"
     ]
    }
   ],
   "source": [
    "m4a_stereo = '../sample_audio/m4a/sample_zoom_audio.m4a'\n",
    "\n",
    "\n",
    "kwargs = {'sampling_rate': 16000, 'out_fmt': 'wav',\n",
    "              'out_encoding': 'pcm_s16le', 'run_validate': True,\n",
    "              'raise_error': True, 'write_meta': True}\n",
    "\n",
    "standardize(m4a_stereo, **kwargs)"
   ]
  },
  {
   "cell_type": "markdown",
   "id": "ea304af8",
   "metadata": {},
   "source": [
    "#### mp3_mono"
   ]
  },
  {
   "cell_type": "code",
   "execution_count": 15,
   "id": "7b2ef2b4",
   "metadata": {},
   "outputs": [
    {
     "name": "stdout",
     "output_type": "stream",
     "text": [
      "../sample_audio/mp3/pydub/ar_16000_c-a_pcm_s16le/common_voice_en_21635524.json\n",
      "../sample_audio/mp3/pydub/ar_16000_c-a_pcm_s16le/common_voice_en_21635524.csv\n",
      "See ../sample_audio/mp3/pydub/ar_16000_c-a_pcm_s16le/common_voice_en_21635524.wav for the standardized audio file.\n"
     ]
    }
   ],
   "source": [
    "mp3_mono = '../sample_audio/mp3/common_voice_en_21635524.mp3'\n",
    "\n",
    "\n",
    "kwargs = {'sampling_rate': 16000, 'out_fmt': 'wav',\n",
    "              'out_encoding': 'pcm_s16le', 'run_validate': True,\n",
    "              'raise_error': True, 'write_meta': True}\n",
    "\n",
    "standardize(mp3_mono, **kwargs)"
   ]
  },
  {
   "cell_type": "markdown",
   "id": "eebcdc05",
   "metadata": {},
   "source": [
    "#### mp3_stereo"
   ]
  },
  {
   "cell_type": "code",
   "execution_count": 16,
   "id": "0c56547e",
   "metadata": {},
   "outputs": [
    {
     "name": "stdout",
     "output_type": "stream",
     "text": [
      "../sample_audio/mp3/pydub/ar_16000_c-a_pcm_s16le/first_ten_Sample_HV_Clip.json\n",
      "../sample_audio/mp3/pydub/ar_16000_c-a_pcm_s16le/first_ten_Sample_HV_Clip.csv\n",
      "See ../sample_audio/mp3/pydub/ar_16000_c-a_pcm_s16le/first_ten_Sample_HV_Clip.wav for the standardized audio file.\n"
     ]
    }
   ],
   "source": [
    "mp3_stereo = '../sample_audio/mp3/first_ten_Sample_HV_Clip.mp3'\n",
    "\n",
    "\n",
    "kwargs = {'sampling_rate': 16000, 'out_fmt': 'wav',\n",
    "              'out_encoding': 'pcm_s16le', 'run_validate': True,\n",
    "              'raise_error': True, 'write_meta': True}\n",
    "\n",
    "standardize(mp3_stereo, **kwargs)"
   ]
  },
  {
   "cell_type": "markdown",
   "id": "c73623bb",
   "metadata": {},
   "source": [
    "### Convert to 16KHZ wav pcm_s16ble stereo to mono"
   ]
  },
  {
   "cell_type": "markdown",
   "id": "d1ca9a9f",
   "metadata": {},
   "source": [
    "Using the Standardize() function, the following code block standardizes the example audio files to a sampling rate of 16,000 Hz, waveform audio file format, 16-bit out-encoding, and a single channel."
   ]
  },
  {
   "cell_type": "markdown",
   "id": "2c5388b4",
   "metadata": {},
   "source": [
    "#### Example With wav_stereo"
   ]
  },
  {
   "cell_type": "code",
   "execution_count": 17,
   "id": "430913e6",
   "metadata": {},
   "outputs": [
    {
     "name": "stdout",
     "output_type": "stream",
     "text": [
      "../sample_audio/wav/pydub/ar_16000_c-a_pcm_s16le_ac_1/first_ten_Sample_HV_Clip.json\n",
      "../sample_audio/wav/pydub/ar_16000_c-a_pcm_s16le_ac_1/first_ten_Sample_HV_Clip.csv\n",
      "See ../sample_audio/wav/pydub/ar_16000_c-a_pcm_s16le_ac_1/first_ten_Sample_HV_Clip.wav for the standardized audio file.\n"
     ]
    }
   ],
   "source": [
    "#Original file\n",
    "wav_stereo = '../sample_audio/wav/first_ten_Sample_HV_Clip.wav'\n",
    "\n",
    "#Arguments\n",
    "kwargs = {'sampling_rate': 16000, 'out_fmt': 'wav',\n",
    "                 'out_encoding': 'pcm_s16le', 'to_mono': True,\n",
    "              'run_validate': True, 'raise_error': True,\n",
    "              'write_meta': True }\n",
    "\n",
    "#Function call\n",
    "standardize(wav_stereo, **kwargs)"
   ]
  },
  {
   "cell_type": "markdown",
   "id": "05e8bcef",
   "metadata": {},
   "source": [
    "#### Example With flac_stereo"
   ]
  },
  {
   "cell_type": "code",
   "execution_count": 18,
   "id": "f0e89030",
   "metadata": {},
   "outputs": [
    {
     "name": "stdout",
     "output_type": "stream",
     "text": [
      "../sample_audio/flac/pydub/ar_16000_c-a_pcm_s16le_ac_1/first_ten_Sample_HV_Clip.json\n",
      "../sample_audio/flac/pydub/ar_16000_c-a_pcm_s16le_ac_1/first_ten_Sample_HV_Clip.csv\n",
      "See ../sample_audio/flac/pydub/ar_16000_c-a_pcm_s16le_ac_1/first_ten_Sample_HV_Clip.wav for the standardized audio file.\n"
     ]
    }
   ],
   "source": [
    "flac_stereo = '../sample_audio/flac/first_ten_Sample_HV_Clip.flac'\n",
    "\n",
    "\n",
    "kwargs = {'sampling_rate': 16000, 'out_fmt': 'wav',\n",
    "                 'out_encoding': 'pcm_s16le', 'to_mono': True,\n",
    "              'run_validate': True, 'raise_error': True,\n",
    "              'write_meta': True }\n",
    "\n",
    "standardize(flac_stereo, **kwargs)"
   ]
  },
  {
   "cell_type": "markdown",
   "id": "35a04752",
   "metadata": {},
   "source": [
    "### Convert to 16KHZ flac with compression_level=5"
   ]
  },
  {
   "cell_type": "markdown",
   "id": "fd29f2f9",
   "metadata": {},
   "source": [
    "Using the Standardize() function, the following code block standardizes the example audio files to a sampling rate of 16,000 Hz, flac audio file format, flac out-encoding, and a compression level of 5."
   ]
  },
  {
   "cell_type": "markdown",
   "id": "8d0b27c7",
   "metadata": {},
   "source": [
    "#### Example with wav_stereo"
   ]
  },
  {
   "cell_type": "code",
   "execution_count": 19,
   "id": "cc6908d8",
   "metadata": {},
   "outputs": [
    {
     "name": "stdout",
     "output_type": "stream",
     "text": [
      "../sample_audio/wav/pydub/ar_16000_c-a_flac_compression_level_5/first_ten_Sample_HV_Clip.json\n",
      "../sample_audio/wav/pydub/ar_16000_c-a_flac_compression_level_5/first_ten_Sample_HV_Clip.csv\n",
      "See ../sample_audio/wav/pydub/ar_16000_c-a_flac_compression_level_5/first_ten_Sample_HV_Clip.flac for the standardized audio file.\n"
     ]
    }
   ],
   "source": [
    "#Original file\n",
    "wav_stereo = '../sample_audio/wav/first_ten_Sample_HV_Clip.wav'\n",
    "\n",
    "#Arguments\n",
    "kwargs = {'sampling_rate': 16000, 'out_fmt': 'flac',\n",
    "              'out_encoding': 'flac', 'compression_level': 5,\n",
    "              'run_validate': True, 'raise_error': True,\n",
    "              'write_meta': True }\n",
    "\n",
    "#Standardized file\n",
    "standardize(wav_stereo, **kwargs)"
   ]
  },
  {
   "cell_type": "markdown",
   "id": "3fc471f8",
   "metadata": {},
   "source": [
    "#### Example with mp3_mono"
   ]
  },
  {
   "cell_type": "code",
   "execution_count": 20,
   "id": "4ba7c2d2",
   "metadata": {},
   "outputs": [
    {
     "name": "stdout",
     "output_type": "stream",
     "text": [
      "../sample_audio/mp3/pydub/ar_16000_c-a_flac_compression_level_5/common_voice_en_21635524.json\n",
      "../sample_audio/mp3/pydub/ar_16000_c-a_flac_compression_level_5/common_voice_en_21635524.csv\n",
      "See ../sample_audio/mp3/pydub/ar_16000_c-a_flac_compression_level_5/common_voice_en_21635524.flac for the standardized audio file.\n"
     ]
    }
   ],
   "source": [
    "mp3_mono = '../sample_audio/mp3/common_voice_en_21635524.mp3'\n",
    "\n",
    "\n",
    "kwargs = {'sampling_rate': 16000, 'out_fmt': 'flac',\n",
    "              'out_encoding': 'flac', 'compression_level': 5,\n",
    "              'run_validate': True, 'raise_error': True,\n",
    "              'write_meta': True }\n",
    "\n",
    "standardize(mp3_mono, **kwargs)"
   ]
  },
  {
   "cell_type": "markdown",
   "id": "830f4336",
   "metadata": {},
   "source": [
    "## File Validation"
   ]
  },
  {
   "cell_type": "markdown",
   "id": "19d17cbe",
   "metadata": {},
   "source": [
    "The validate_files() function can be used to compare original sample output files with generated files using sha256. It outputs a csv containing comparison details.\n",
    "\n",
    "[View README](README.md) for more details on the contents of the output csv"
   ]
  },
  {
   "cell_type": "code",
   "execution_count": 21,
   "id": "dcb9453e",
   "metadata": {},
   "outputs": [],
   "source": [
    "from validate import generate_comparison_files, validate_files"
   ]
  },
  {
   "cell_type": "code",
   "execution_count": 22,
   "id": "cfb598a5",
   "metadata": {},
   "outputs": [
    {
     "name": "stdout",
     "output_type": "stream",
     "text": [
      "../sample_audio/wav/test_output/ar_16000_c-a_pcm_s16le/mono_first_ten_Sample_HV_Clip.json\n",
      "../sample_audio/wav/test_output/ar_16000_c-a_pcm_s16le/mono_first_ten_Sample_HV_Clip.csv\n",
      "See ../sample_audio/wav/test_output/ar_16000_c-a_pcm_s16le/mono_first_ten_Sample_HV_Clip.wav for the standardized audio file.\n",
      "../sample_audio/wav/test_output/ar_16000_c-a_pcm_s16le/first_ten_Sample_HV_Clip.json\n",
      "../sample_audio/wav/test_output/ar_16000_c-a_pcm_s16le/first_ten_Sample_HV_Clip.csv\n",
      "See ../sample_audio/wav/test_output/ar_16000_c-a_pcm_s16le/first_ten_Sample_HV_Clip.wav for the standardized audio file.\n",
      "../sample_audio/flac/test_output/ar_16000_c-a_pcm_s16le/mono_first_ten_Sample_HV_Clip.json\n",
      "../sample_audio/flac/test_output/ar_16000_c-a_pcm_s16le/mono_first_ten_Sample_HV_Clip.csv\n",
      "See ../sample_audio/flac/test_output/ar_16000_c-a_pcm_s16le/mono_first_ten_Sample_HV_Clip.wav for the standardized audio file.\n",
      "../sample_audio/m4a/test_output/ar_16000_c-a_pcm_s16le/mono_zoom_audio.json\n",
      "../sample_audio/m4a/test_output/ar_16000_c-a_pcm_s16le/mono_zoom_audio.csv\n",
      "See ../sample_audio/m4a/test_output/ar_16000_c-a_pcm_s16le/mono_zoom_audio.wav for the standardized audio file.\n",
      "../sample_audio/m4a/test_output/ar_16000_c-a_pcm_s16le/sample_zoom_audio.json\n",
      "../sample_audio/m4a/test_output/ar_16000_c-a_pcm_s16le/sample_zoom_audio.csv\n",
      "See ../sample_audio/m4a/test_output/ar_16000_c-a_pcm_s16le/sample_zoom_audio.wav for the standardized audio file.\n",
      "../sample_audio/mp3/test_output/ar_16000_c-a_pcm_s16le/common_voice_en_21635524.json\n",
      "../sample_audio/mp3/test_output/ar_16000_c-a_pcm_s16le/common_voice_en_21635524.csv\n",
      "See ../sample_audio/mp3/test_output/ar_16000_c-a_pcm_s16le/common_voice_en_21635524.wav for the standardized audio file.\n",
      "../sample_audio/mp3/test_output/ar_16000_c-a_pcm_s16le/first_ten_Sample_HV_Clip.json\n",
      "../sample_audio/mp3/test_output/ar_16000_c-a_pcm_s16le/first_ten_Sample_HV_Clip.csv\n",
      "See ../sample_audio/mp3/test_output/ar_16000_c-a_pcm_s16le/first_ten_Sample_HV_Clip.wav for the standardized audio file.\n",
      "../sample_audio/wav/test_output/ar_16000_c-a_pcm_s16le_ac_1/first_ten_Sample_HV_Clip.json\n",
      "../sample_audio/wav/test_output/ar_16000_c-a_pcm_s16le_ac_1/first_ten_Sample_HV_Clip.csv\n",
      "See ../sample_audio/wav/test_output/ar_16000_c-a_pcm_s16le_ac_1/first_ten_Sample_HV_Clip.wav for the standardized audio file.\n",
      "../sample_audio/flac/test_output/ar_16000_c-a_pcm_s16le_ac_1/first_ten_Sample_HV_Clip.json\n",
      "../sample_audio/flac/test_output/ar_16000_c-a_pcm_s16le_ac_1/first_ten_Sample_HV_Clip.csv\n",
      "See ../sample_audio/flac/test_output/ar_16000_c-a_pcm_s16le_ac_1/first_ten_Sample_HV_Clip.wav for the standardized audio file.\n",
      "../sample_audio/wav/test_output/ar_16000_c-a_flac_compression_level_5/first_ten_Sample_HV_Clip.json\n",
      "../sample_audio/wav/test_output/ar_16000_c-a_flac_compression_level_5/first_ten_Sample_HV_Clip.csv\n",
      "See ../sample_audio/wav/test_output/ar_16000_c-a_flac_compression_level_5/first_ten_Sample_HV_Clip.flac for the standardized audio file.\n",
      "../sample_audio/mp3/test_output/ar_16000_c-a_flac_compression_level_5/common_voice_en_21635524.json\n",
      "../sample_audio/mp3/test_output/ar_16000_c-a_flac_compression_level_5/common_voice_en_21635524.csv\n",
      "See ../sample_audio/mp3/test_output/ar_16000_c-a_flac_compression_level_5/common_voice_en_21635524.flac for the standardized audio file.\n",
      "Summary: {'match': 11, 'no match': 0, 'audio-only match': 11, 'audio-only no match': 0}\n",
      "Please see validation CSV written to ../sample_audio\\test_comparison.csv for more details.\n"
     ]
    }
   ],
   "source": [
    "generate_comparison_files()\n",
    "validate_files()"
   ]
  },
  {
   "cell_type": "code",
   "execution_count": null,
   "id": "e6d72dd5",
   "metadata": {},
   "outputs": [],
   "source": []
  }
 ],
 "metadata": {
  "kernelspec": {
   "display_name": "Python 3 (ipykernel)",
   "language": "python",
   "name": "python3"
  },
  "language_info": {
   "codemirror_mode": {
    "name": "ipython",
    "version": 3
   },
   "file_extension": ".py",
   "mimetype": "text/x-python",
   "name": "python",
   "nbconvert_exporter": "python",
   "pygments_lexer": "ipython3",
   "version": "3.9.6"
  }
 },
 "nbformat": 4,
 "nbformat_minor": 5
}
