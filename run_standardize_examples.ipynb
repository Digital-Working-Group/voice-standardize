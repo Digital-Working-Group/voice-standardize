{
 "cells": [
  {
   "cell_type": "markdown",
   "id": "4f0fcbd5",
   "metadata": {},
   "source": [
    "# Voice Standardize Examples"
   ]
  },
  {
   "cell_type": "markdown",
   "id": "fba13502",
   "metadata": {},
   "source": [
    "This Jupyter Notebook is part of a larger voice feature extraction toolkit developed to study brain ageing by means of voice features\n",
    "\n",
    "Specifically, this noteook contains examples of how to use pydub to standardize digital voice audio files with varying metadata"
   ]
  },
  {
   "cell_type": "markdown",
   "id": "1db74b7f",
   "metadata": {},
   "source": [
    "### Sample Input Files and Metadata"
   ]
  },
  {
   "cell_type": "markdown",
   "id": "7f7d1670",
   "metadata": {},
   "source": []
  },
  {
   "cell_type": "markdown",
   "id": "f4f18a90",
   "metadata": {},
   "source": [
    "### Example 1: Standardize Audio"
   ]
  },
  {
   "cell_type": "markdown",
   "id": "8469ec87",
   "metadata": {},
   "source": [
    "#### Import Standardize "
   ]
  },
  {
   "cell_type": "code",
   "execution_count": 2,
   "id": "66ee90c2",
   "metadata": {},
   "outputs": [
    {
     "ename": "ModuleNotFoundError",
     "evalue": "No module named 'pydub_standardize'",
     "output_type": "error",
     "traceback": [
      "\u001b[1;31m---------------------------------------------------------------------------\u001b[0m",
      "\u001b[1;31mModuleNotFoundError\u001b[0m                       Traceback (most recent call last)",
      "Cell \u001b[1;32mIn[2], line 1\u001b[0m\n\u001b[1;32m----> 1\u001b[0m \u001b[38;5;28;01mfrom\u001b[39;00m \u001b[38;5;21;01mpydub_standardize\u001b[39;00m \u001b[38;5;28;01mimport\u001b[39;00m standardize\n",
      "\u001b[1;31mModuleNotFoundError\u001b[0m: No module named 'pydub_standardize'"
     ]
    }
   ],
   "source": [
    "from pydub_standardize import standardize"
   ]
  },
  {
   "cell_type": "code",
   "execution_count": null,
   "id": "201f2090",
   "metadata": {},
   "outputs": [],
   "source": []
  }
 ],
 "metadata": {
  "kernelspec": {
   "display_name": "Python 3 (ipykernel)",
   "language": "python",
   "name": "python3"
  },
  "language_info": {
   "codemirror_mode": {
    "name": "ipython",
    "version": 3
   },
   "file_extension": ".py",
   "mimetype": "text/x-python",
   "name": "python",
   "nbconvert_exporter": "python",
   "pygments_lexer": "ipython3",
   "version": "3.11.5"
  }
 },
 "nbformat": 4,
 "nbformat_minor": 5
}
